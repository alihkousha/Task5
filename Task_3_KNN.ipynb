{
 "cells": [
  {
   "cell_type": "code",
   "execution_count": null,
   "id": "1a14dbaa",
   "metadata": {},
   "outputs": [],
   "source": [
    "import os"
   ]
  },
  {
   "cell_type": "code",
   "execution_count": null,
   "id": "f9ab7411",
   "metadata": {},
   "outputs": [],
   "source": [
    "import pandas as pd\n",
    "import numpy as np\n",
    "\n",
    "df = pd.read_csv(os.path.join(os.getcwd(),'Data','Amazon Search Terms_Search Terms_US.csv')).sample(n=1000,ignore_index=True)"
   ]
  },
  {
   "cell_type": "code",
   "execution_count": null,
   "id": "5950dc4d",
   "metadata": {},
   "outputs": [],
   "source": [
    "from gensim.parsing.preprocessing import remove_stopwords\n",
    "import string\n",
    "from nltk.stem import PorterStemmer\n",
    "from nltk.tokenize import word_tokenize\n",
    "import webcolors"
   ]
  },
  {
   "cell_type": "code",
   "execution_count": null,
   "id": "d68e224f",
   "metadata": {},
   "outputs": [],
   "source": [
    "from sklearn.neighbors import NearestNeighbors"
   ]
  },
  {
   "cell_type": "code",
   "execution_count": null,
   "id": "1df02330",
   "metadata": {},
   "outputs": [],
   "source": [
    "from sklearn.feature_extraction.text import TfidfVectorizer"
   ]
  },
  {
   "cell_type": "code",
   "execution_count": null,
   "id": "b4b50f6f",
   "metadata": {},
   "outputs": [],
   "source": [
    "product_list = list()\n",
    "for i in range(len(df['#1 Product Title'])):\n",
    "    for j in range(1,4):\n",
    "        product_list.append([df.loc[i,'Search Term'],df.loc[i,f'#{j} Product Title']])"
   ]
  },
  {
   "cell_type": "code",
   "execution_count": null,
   "id": "1343ace3",
   "metadata": {},
   "outputs": [],
   "source": [
    "df = pd.DataFrame(product_list,columns=['Search Term','Product Title'])"
   ]
  },
  {
   "cell_type": "code",
   "execution_count": null,
   "id": "358ffb09",
   "metadata": {},
   "outputs": [],
   "source": [
    "Y,X = df[['Product Title']], df[['Search Term']]"
   ]
  },
  {
   "cell_type": "code",
   "execution_count": null,
   "id": "3b54c7f6",
   "metadata": {},
   "outputs": [],
   "source": [
    "Y_raw,X_raw = Y.copy(),X.copy()"
   ]
  },
  {
   "cell_type": "code",
   "execution_count": null,
   "id": "d2df95e2",
   "metadata": {},
   "outputs": [],
   "source": [
    "X_raw,Y_raw"
   ]
  },
  {
   "cell_type": "code",
   "execution_count": null,
   "id": "eb1247c1",
   "metadata": {},
   "outputs": [],
   "source": [
    "def stemSentence(sentence):\n",
    "    porter = PorterStemmer()\n",
    "    token_words = word_tokenize(sentence)\n",
    "    stem_sentence = [porter.stem(word) for word in token_words]\n",
    "    return ' '.join(stem_sentence)\n",
    "def Clean_Sequence(X=X,is_X = True):\n",
    "    if is_X:\n",
    "        products = pd.Series(list(X['Search Term']))\n",
    "    else:\n",
    "        products = pd.Series(list(X['Product Title']))\n",
    "    \n",
    "    products = [remove_stopwords(str(x))\\\n",
    "            .translate(str.maketrans('','',string.punctuation))\\\n",
    "            .translate(str.maketrans('','',string.digits))\\\n",
    "            for x in products]\n",
    "    \n",
    "    if is_X:\n",
    "        X.loc[:,'Search Term'] = products\n",
    "    else:\n",
    "        X.loc[:,'Product Title'] = products\n",
    "    \n",
    "    if is_X:\n",
    "        products = pd.Series(list(X['Search Term']))\n",
    "    else:\n",
    "        products = pd.Series(list(X['Product Title']))\n",
    "    \n",
    "    products = pd.Series([stemSentence(str(x)) for x in products])\n",
    "    \n",
    "    if is_X:\n",
    "        X.loc[:,'Search Term'] = products\n",
    "    else:\n",
    "        X.loc[:,'Product Title'] = products\n",
    "    \n",
    "    colors = list(webcolors.CSS3_NAMES_TO_HEX)\n",
    "    colors = [stemSentence(str(x)) for x in colors if x not in ('bisque','blanchedalmond','chocolate','honeydew','lime',\n",
    "                                             'olive','orange','plum','salmon','tomato','wheat')]\n",
    "\n",
    "    if is_X:\n",
    "        products = pd.Series(list(X['Search Term']))\n",
    "    else:\n",
    "        products = pd.Series(list(X['Product Title']))\n",
    "    \n",
    "    products = [' '.join([x for x in str(string).split() if x not in colors]) for string in products]\n",
    "\n",
    "    if is_X:\n",
    "        X.loc[:,'Search Term'] = products\n",
    "    else:\n",
    "        X.loc[:,'Product Title'] = products\n",
    "\n",
    "    return X\n",
    "\n",
    "X = Clean_Sequence(X)\n",
    "Y = Clean_Sequence(Y,is_X=False)"
   ]
  },
  {
   "cell_type": "code",
   "execution_count": null,
   "id": "761ac50e",
   "metadata": {},
   "outputs": [],
   "source": [
    "X,Y"
   ]
  },
  {
   "cell_type": "code",
   "execution_count": null,
   "id": "00326c23",
   "metadata": {},
   "outputs": [],
   "source": [
    "tfidf_vectorizer = TfidfVectorizer()\n",
    "tfidf_productid = tfidf_vectorizer.fit_transform((Y['Product Title']))\n",
    "#Y_verctorized = pd.concat([Y,pd.DataFrame(Y_verctorized.toarray(),\n",
    "#                            columns=Y_verctorized.get_feature_names_out())],axis=1)"
   ]
  },
  {
   "cell_type": "code",
   "execution_count": null,
   "id": "9d66019b",
   "metadata": {},
   "outputs": [],
   "source": [
    "def Search_system():\n",
    "    Search_String = input('What to search? :')\n",
    "    index = np.where(X_raw['Search Term'] == Search_String)[0][0]\n",
    "    Search_q = X_raw.iloc[[index]]\n",
    "    Search_q = Clean_Sequence(Search_q)\n",
    "    Search_tfidf = tfidf_vectorizer.transform(Search_q['Search Term'])\n",
    "    return [Search_tfidf,Search_String]"
   ]
  },
  {
   "cell_type": "code",
   "execution_count": null,
   "id": "93314236",
   "metadata": {},
   "outputs": [],
   "source": [
    "def get_recommendation(top, df_all, scores, Search_String):\n",
    "    recommendation = pd.DataFrame(columns = ['Search Term',  'Results', 'score'])\n",
    "    count = 0\n",
    "    for i in top:\n",
    "        recommendation.at[count, 'Search Term'] = Search_String\n",
    "        recommendation.at[count, 'Results'] = df_all['Product Title'][i]\n",
    "        recommendation.at[count, 'score'] =  scores[count]\n",
    "        count += 1\n",
    "    return recommendation.loc[:4,]"
   ]
  },
  {
   "cell_type": "code",
   "execution_count": null,
   "id": "e3f360d5",
   "metadata": {},
   "outputs": [],
   "source": [
    "KNN = NearestNeighbors(n_neighbors = 11)\n",
    "KNN.fit(tfidf_productid)\n",
    "Searched = Search_system()\n",
    "Search_tfidf,Search_string = Searched[0],Searched[1]\n",
    "NNs = KNN.kneighbors(Search_tfidf, return_distance=True)\n",
    "top = NNs[1][0][1:]\n",
    "index_score = NNs[0][0][1:]\n",
    "get_recommendation(top, Y_raw, index_score, Search_string)"
   ]
  }
 ],
 "metadata": {
  "kernelspec": {
   "display_name": "Task2_3",
   "language": "python",
   "name": "task2_3"
  },
  "language_info": {
   "codemirror_mode": {
    "name": "ipython",
    "version": 3
   },
   "file_extension": ".py",
   "mimetype": "text/x-python",
   "name": "python",
   "nbconvert_exporter": "python",
   "pygments_lexer": "ipython3",
   "version": "3.8.10"
  }
 },
 "nbformat": 4,
 "nbformat_minor": 5
}
